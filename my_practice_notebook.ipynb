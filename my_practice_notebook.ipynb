{
 "cells": [
  {
   "cell_type": "code",
   "execution_count": 2,
   "id": "5930906d",
   "metadata": {},
   "outputs": [],
   "source": [
    "import numpy as np"
   ]
  },
  {
   "cell_type": "code",
   "execution_count": 3,
   "id": "1a730a7e",
   "metadata": {},
   "outputs": [],
   "source": [
    "x=np.array([1, 6, 4, 78, 56])"
   ]
  },
  {
   "cell_type": "code",
   "execution_count": 4,
   "id": "8f5528f5",
   "metadata": {},
   "outputs": [
    {
     "name": "stdout",
     "output_type": "stream",
     "text": [
      "[ 1  6  4 78 56]\n"
     ]
    }
   ],
   "source": [
    "print(x)"
   ]
  },
  {
   "cell_type": "code",
   "execution_count": 5,
   "id": "4ab60d72",
   "metadata": {},
   "outputs": [
    {
     "data": {
      "text/plain": [
       "numpy.ndarray"
      ]
     },
     "execution_count": 5,
     "metadata": {},
     "output_type": "execute_result"
    }
   ],
   "source": [
    "type(x)"
   ]
  },
  {
   "cell_type": "code",
   "execution_count": 18,
   "id": "2413f3c5",
   "metadata": {},
   "outputs": [
    {
     "data": {
      "text/plain": [
       "dtype('int64')"
      ]
     },
     "execution_count": 18,
     "metadata": {},
     "output_type": "execute_result"
    }
   ],
   "source": [
    "x.dtype"
   ]
  },
  {
   "cell_type": "code",
   "execution_count": 7,
   "id": "51958633",
   "metadata": {},
   "outputs": [
    {
     "name": "stdout",
     "output_type": "stream",
     "text": [
      "int64\n"
     ]
    }
   ],
   "source": [
    "print(x.dtype)"
   ]
  },
  {
   "cell_type": "code",
   "execution_count": 12,
   "id": "e999ceff",
   "metadata": {},
   "outputs": [],
   "source": [
    "y=np.array([3.1742, 6.533, 4, 6, 90])"
   ]
  },
  {
   "cell_type": "code",
   "execution_count": 13,
   "id": "1b2a3b8f",
   "metadata": {},
   "outputs": [
    {
     "name": "stdout",
     "output_type": "stream",
     "text": [
      "[ 3.1742  6.533   4.      6.     90.    ]\n"
     ]
    }
   ],
   "source": [
    "print(y)"
   ]
  },
  {
   "cell_type": "code",
   "execution_count": 14,
   "id": "76edc4f1",
   "metadata": {},
   "outputs": [
    {
     "data": {
      "text/plain": [
       "dtype('float64')"
      ]
     },
     "execution_count": 14,
     "metadata": {},
     "output_type": "execute_result"
    }
   ],
   "source": [
    "y.dtype"
   ]
  },
  {
   "cell_type": "code",
   "execution_count": 15,
   "id": "a671bd25",
   "metadata": {},
   "outputs": [
    {
     "name": "stdout",
     "output_type": "stream",
     "text": [
      "float64\n"
     ]
    }
   ],
   "source": [
    "print(y.dtype)"
   ]
  },
  {
   "cell_type": "code",
   "execution_count": 16,
   "id": "e30c9f26",
   "metadata": {},
   "outputs": [],
   "source": [
    "np.save(\"my_array\", y)"
   ]
  },
  {
   "cell_type": "code",
   "execution_count": 21,
   "id": "580e026f",
   "metadata": {},
   "outputs": [],
   "source": [
    "z=np.load(\"my_array.npy\")"
   ]
  },
  {
   "cell_type": "code",
   "execution_count": 22,
   "id": "743f2f1d",
   "metadata": {},
   "outputs": [
    {
     "name": "stdout",
     "output_type": "stream",
     "text": [
      "[ 3.1742  6.533   4.      6.     90.    ]\n"
     ]
    }
   ],
   "source": [
    "print(z)"
   ]
  },
  {
   "cell_type": "code",
   "execution_count": 24,
   "id": "9987c1c0",
   "metadata": {},
   "outputs": [
    {
     "data": {
      "text/plain": [
       "1"
      ]
     },
     "execution_count": 24,
     "metadata": {},
     "output_type": "execute_result"
    }
   ],
   "source": [
    "z.ndim"
   ]
  },
  {
   "cell_type": "code",
   "execution_count": 25,
   "id": "675ef6a5",
   "metadata": {},
   "outputs": [
    {
     "name": "stdout",
     "output_type": "stream",
     "text": [
      "rank of z np array is  1\n"
     ]
    }
   ],
   "source": [
    "print(\"rank of z np array is \", z.ndim)"
   ]
  },
  {
   "cell_type": "code",
   "execution_count": 6,
   "id": "24bd9a90",
   "metadata": {},
   "outputs": [],
   "source": [
    "a=np.array([[3.1742, 6.533, 4, 6, 90],[1, 6, 4, 78, 56],[3.1742, 6.533, 4, 6, 90],[1, 6, 4, 78, 56]])"
   ]
  },
  {
   "cell_type": "code",
   "execution_count": 29,
   "id": "a92947ba",
   "metadata": {},
   "outputs": [
    {
     "data": {
      "text/plain": [
       "2"
      ]
     },
     "execution_count": 29,
     "metadata": {},
     "output_type": "execute_result"
    }
   ],
   "source": [
    "a.ndim"
   ]
  },
  {
   "cell_type": "code",
   "execution_count": 30,
   "id": "52af537b",
   "metadata": {},
   "outputs": [
    {
     "data": {
      "text/plain": [
       "dtype('float64')"
      ]
     },
     "execution_count": 30,
     "metadata": {},
     "output_type": "execute_result"
    }
   ],
   "source": [
    "a.dtype"
   ]
  },
  {
   "cell_type": "code",
   "execution_count": 39,
   "id": "64d222ea",
   "metadata": {},
   "outputs": [
    {
     "name": "stderr",
     "output_type": "stream",
     "text": [
      "/tmp/ipykernel_7506/2227438460.py:1: VisibleDeprecationWarning: Creating an ndarray from ragged nested sequences (which is a list-or-tuple of lists-or-tuples-or ndarrays with different lengths or shapes) is deprecated. If you meant to do this, you must specify 'dtype=object' when creating the ndarray.\n",
      "  b=np.array([[a,a,a,a],[\"Wewood\", \"Phase 1\", \"Phase 2\", \"TCN\"]])\n"
     ]
    }
   ],
   "source": [
    "b=np.array([[a,a,a,a],[\"Wewood\", \"Phase 1\", \"Phase 2\", \"TCN\"]] dtype=\"\")"
   ]
  },
  {
   "cell_type": "code",
   "execution_count": 37,
   "id": "3272959f",
   "metadata": {},
   "outputs": [
    {
     "data": {
      "text/plain": [
       "3"
      ]
     },
     "execution_count": 37,
     "metadata": {},
     "output_type": "execute_result"
    }
   ],
   "source": [
    "b.ndim"
   ]
  },
  {
   "cell_type": "code",
   "execution_count": 15,
   "id": "0cfbf32a",
   "metadata": {},
   "outputs": [
    {
     "name": "stdout",
     "output_type": "stream",
     "text": [
      "[[[[0 0 0 0 0]\n",
      "   [0 0 0 0 0]\n",
      "   [0 0 0 0 0]]\n",
      "\n",
      "  [[0 0 0 0 0]\n",
      "   [0 0 0 0 0]\n",
      "   [0 0 0 0 0]]\n",
      "\n",
      "  [[0 0 0 0 0]\n",
      "   [0 0 0 0 0]\n",
      "   [0 0 0 0 0]]\n",
      "\n",
      "  [[0 0 0 0 0]\n",
      "   [0 0 0 0 0]\n",
      "   [0 0 0 0 0]]]\n",
      "\n",
      "\n",
      " [[[0 0 0 0 0]\n",
      "   [0 0 0 0 0]\n",
      "   [0 0 0 0 0]]\n",
      "\n",
      "  [[0 0 0 0 0]\n",
      "   [0 0 0 0 0]\n",
      "   [0 0 0 0 0]]\n",
      "\n",
      "  [[0 0 0 0 0]\n",
      "   [0 0 0 0 0]\n",
      "   [0 0 0 0 0]]\n",
      "\n",
      "  [[0 0 0 0 0]\n",
      "   [0 0 0 0 0]\n",
      "   [0 0 0 0 0]]]]\n",
      "shape is  (2, 4, 3, 5)\n",
      "nDimension is  4\n",
      "size is  120\n"
     ]
    },
    {
     "data": {
      "text/plain": [
       "dtype('int64')"
      ]
     },
     "execution_count": 15,
     "metadata": {},
     "output_type": "execute_result"
    }
   ],
   "source": [
    "c=np.zeros([2,4,3,5], dtype=int)\n",
    "print(c)\n",
    "print(\"shape is \",c.shape)\n",
    "print(\"nDimension is \", c.ndim)\n",
    "print(\"size is \",c.size)\n",
    "c.dtype"
   ]
  },
  {
   "cell_type": "code",
   "execution_count": 17,
   "id": "b0a56b9e",
   "metadata": {},
   "outputs": [
    {
     "name": "stdout",
     "output_type": "stream",
     "text": [
      "[[1. 1. 1.]\n",
      " [1. 1. 1.]]\n"
     ]
    }
   ],
   "source": [
    "Ones = np.ones([2,3])\n",
    "print(Ones)"
   ]
  },
  {
   "cell_type": "code",
   "execution_count": 18,
   "id": "2cfbb414",
   "metadata": {},
   "outputs": [
    {
     "name": "stdout",
     "output_type": "stream",
     "text": [
      "[[7 7 7 7]\n",
      " [7 7 7 7]\n",
      " [7 7 7 7]]\n"
     ]
    }
   ],
   "source": [
    "Full_fives = np.full([3,4],7)\n",
    "print(Full_fives)"
   ]
  },
  {
   "cell_type": "code",
   "execution_count": 20,
   "id": "3e4a8b73",
   "metadata": {},
   "outputs": [
    {
     "name": "stdout",
     "output_type": "stream",
     "text": [
      "[[1. 0. 0. 0. 0.]\n",
      " [0. 1. 0. 0. 0.]\n",
      " [0. 0. 1. 0. 0.]\n",
      " [0. 0. 0. 1. 0.]\n",
      " [0. 0. 0. 0. 1.]]\n"
     ]
    }
   ],
   "source": [
    "Identity_matrix = np.eye(5)\n",
    "print(Identity_matrix)"
   ]
  },
  {
   "cell_type": "code",
   "execution_count": 21,
   "id": "6cff61fd",
   "metadata": {},
   "outputs": [
    {
     "name": "stdout",
     "output_type": "stream",
     "text": [
      "[[ 1  0  0  0  0  0]\n",
      " [ 0  2  0  0  0  0]\n",
      " [ 0  0  3  0  0  0]\n",
      " [ 0  0  0  5  0  0]\n",
      " [ 0  0  0  0  8  0]\n",
      " [ 0  0  0  0  0 13]]\n"
     ]
    }
   ],
   "source": [
    "Diagonal_matrix = np.diag([1,2,3,5,8,13])\n",
    "print(Diagonal_matrix)"
   ]
  },
  {
   "cell_type": "code",
   "execution_count": 23,
   "id": "f1bf8f05",
   "metadata": {},
   "outputs": [
    {
     "name": "stdout",
     "output_type": "stream",
     "text": [
      "[0 1 2 3 4 5 6]\n"
     ]
    }
   ],
   "source": [
    "Arange_stop = np.arange(7)\n",
    "print(Arange)"
   ]
  },
  {
   "cell_type": "code",
   "execution_count": 24,
   "id": "00cea565",
   "metadata": {},
   "outputs": [
    {
     "name": "stdout",
     "output_type": "stream",
     "text": [
      "[3 4 5 6 7 8 9]\n"
     ]
    }
   ],
   "source": [
    "Arange_start_stop = np.arange(3,10)\n",
    "print(Arange_start_stop)"
   ]
  },
  {
   "cell_type": "code",
   "execution_count": 30,
   "id": "77a10d64",
   "metadata": {},
   "outputs": [
    {
     "name": "stdout",
     "output_type": "stream",
     "text": [
      "[ 4  6  8 10 12]\n"
     ]
    },
    {
     "data": {
      "text/plain": [
       "\"arange function has problems with finite floating point decisions so when using non-integer steps, \\nit's more advisable to use linspace function\""
      ]
     },
     "execution_count": 30,
     "metadata": {},
     "output_type": "execute_result"
    }
   ],
   "source": [
    "Arange_start_stop_step = np.arange(4,14,2)\n",
    "print(Arange_start_stop_step)\n",
    "'''arange function has problems with finite floating point decisions so when using non-integer steps, \n",
    "it's more advisable to use linspace function'''"
   ]
  },
  {
   "cell_type": "code",
   "execution_count": 10,
   "id": "09d51611",
   "metadata": {},
   "outputs": [
    {
     "name": "stdout",
     "output_type": "stream",
     "text": [
      "[ 4.   7.2 10.4 13.6 16.8 20. ]\n"
     ]
    },
    {
     "data": {
      "text/plain": [
       "\"While arange function uses rnge by adding the range to the previous value, linspace (start, stop, n) n value.\\nUnlike arange, stop is inclusive except outrightly specified (endPoint=False)\\nWhere n isn't specified, it defaults to 50\""
      ]
     },
     "execution_count": 10,
     "metadata": {},
     "output_type": "execute_result"
    }
   ],
   "source": [
    "Linspace_start_stop_step = np.linspace(4,20,6)\n",
    "print(Linspace_start_stop_step)\n",
    "'''While arange function uses rnge by adding the range to the previous value, linspace (start, stop, n) n value.\n",
    "Unlike arange, stop is inclusive except outrightly specified (endPoint=False)\n",
    "Where n isn't specified, it defaults to 50'''"
   ]
  },
  {
   "cell_type": "code",
   "execution_count": 12,
   "id": "2ef30870",
   "metadata": {},
   "outputs": [
    {
     "name": "stdout",
     "output_type": "stream",
     "text": [
      "[ 4.          6.66666667  9.33333333 12.         14.66666667 17.33333333]\n"
     ]
    }
   ],
   "source": [
    "Linspace_start_stop_step = np.linspace(4,20,6, endpoint=False)\n",
    "print(Linspace_start_stop_step)\n"
   ]
  },
  {
   "cell_type": "code",
   "execution_count": 30,
   "id": "693e5c8c",
   "metadata": {},
   "outputs": [
    {
     "name": "stdout",
     "output_type": "stream",
     "text": [
      "16\n",
      "[[ 2  4  6  8]\n",
      " [10 12 14 16]\n",
      " [18 20 22 24]\n",
      " [26 28 30 32]]\n"
     ]
    }
   ],
   "source": [
    "Reshape_d=np.array([2,4,6,8,10,12,14,16,18,20,22,24,26,28,30,32])\n",
    "print(Reshape_d.size)\n",
    "Reshape_d=np.reshape(Reshape_d,(4,4))\n",
    "print(Reshape_d)\n",
    "#reshape function changes an array into the specified shape as long as it \n",
    "#elements can fit into all positions of the shape."
   ]
  },
  {
   "cell_type": "code",
   "execution_count": 31,
   "id": "0c2460af",
   "metadata": {},
   "outputs": [
    {
     "name": "stdout",
     "output_type": "stream",
     "text": [
      "[[ 0  1  2  3  4]\n",
      " [ 5  6  7  8  9]\n",
      " [10 11 12 13 14]\n",
      " [15 16 17 18 19]]\n"
     ]
    }
   ],
   "source": [
    "Arange_Reshape = np.arange(20).reshape(4,5)\n",
    "print(Arange_Reshape)"
   ]
  },
  {
   "cell_type": "code",
   "execution_count": 36,
   "id": "585278c6",
   "metadata": {},
   "outputs": [
    {
     "name": "stdout",
     "output_type": "stream",
     "text": [
      "[[ 2.   4.6]\n",
      " [ 7.2  9.8]\n",
      " [12.4 15. ]\n",
      " [17.6 20.2]\n",
      " [22.8 25.4]]\n"
     ]
    }
   ],
   "source": [
    "Linspace_Reshape = np.linspace(2,28,10, endpoint=False).reshape(5,2)\n",
    "print(Linspace_Reshape)"
   ]
  },
  {
   "cell_type": "code",
   "execution_count": 38,
   "id": "9535188d",
   "metadata": {},
   "outputs": [
    {
     "name": "stdout",
     "output_type": "stream",
     "text": [
      "[[0.17820585 0.62771216 0.46887865 0.11983385 0.31920159]\n",
      " [0.89238255 0.35565822 0.06966259 0.76989795 0.59020988]\n",
      " [0.22312946 0.53424973 0.02896882 0.27187404 0.19898836]]\n"
     ]
    }
   ],
   "source": [
    "Random_random = np.random.random((3,5))\n",
    "print(Random_random)"
   ]
  },
  {
   "cell_type": "code",
   "execution_count": 62,
   "id": "f54f3443",
   "metadata": {},
   "outputs": [
    {
     "name": "stdout",
     "output_type": "stream",
     "text": [
      "[[10 17 16 15]\n",
      " [15  9  5 19]\n",
      " [ 7  4 18  4]]\n"
     ]
    }
   ],
   "source": [
    "Random_randInt = np.random.randint(4,20,(3,4))\n",
    "print(Random_randInt)"
   ]
  },
  {
   "cell_type": "code",
   "execution_count": 4,
   "id": "7259dad3",
   "metadata": {},
   "outputs": [
    {
     "name": "stdout",
     "output_type": "stream",
     "text": [
      "[[ 0.08688532  0.91307917 -0.2689959  -0.07167539  0.8393447   0.14219551]\n",
      " [-0.51141574  0.4117186   0.03898831 -0.11039357 -0.21737932 -0.2234551 ]\n",
      " [-0.66591246 -0.30804359  0.82325068 -0.60864803  0.34418171 -0.89411911]\n",
      " [ 0.16618576  0.23063349 -0.27653253 -0.46928321 -0.37716116 -0.32956829]\n",
      " [-0.01434206  0.72997315 -0.2940873   0.17102943  0.4536636  -0.09098083]\n",
      " [-0.63898404 -0.07250617  0.8426105   0.31840382  0.38484427 -0.34122018]]\n",
      "Mean of the matrix is  0.003119001656083918\n",
      "Standard Deviation of the matrix is  0.46158681596071216\n",
      "Maximum of the matrix is  0.91307917155648\n",
      "Minimum of the matrix is  -0.8941191072346866\n",
      "Sum of number greater than 0   16\n",
      "Sum of number less than 0    20\n"
     ]
    }
   ],
   "source": [
    "Random_mean_std = np.random.normal(0,0.5,size=(6,6))\n",
    "print(Random_mean_std)\n",
    "'''nomral function from the random module creates a random matrix with a specied mean (0 in this case) \n",
    "and standard deviation (0.1).'''\n",
    "print(\"Mean of the matrix is \", Random_mean_std.mean())\n",
    "print(\"Standard Deviation of the matrix is \", Random_mean_std.std())\n",
    "print(\"Maximum of the matrix is \", Random_mean_std.max())\n",
    "print(\"Minimum of the matrix is \", Random_mean_std.min())\n",
    "print(\"Sum of number greater than 0  \", (Random_mean_std>0).sum())\n",
    "print(\"Sum of number less than 0   \", (Random_mean_std<0).sum())"
   ]
  },
  {
   "cell_type": "code",
   "execution_count": 107,
   "id": "371f80b7",
   "metadata": {},
   "outputs": [
    {
     "name": "stdout",
     "output_type": "stream",
     "text": [
      "[[ 2  4  6  8]\n",
      " [10 12 14 16]\n",
      " [18 20 22 24]\n",
      " [26 28 30 32]]\n",
      "[[ 2  4  6  8]\n",
      " [10 12 14 16]\n",
      " [18 20 22 24]\n",
      " [26 28 30 32]]\n"
     ]
    }
   ],
   "source": [
    "# Using the Built-in functions you learned about on the\n",
    "# previous page, create a 4 x 4 ndarray that only\n",
    "# contains consecutive even numbers from 2 to 32 (inclusive)\n",
    "\n",
    "X = np.linspace(2,32,16, dtype=int).reshape(4,4)\n",
    "print(X)\n",
    "#Or\n",
    "Y = np.arange(2,34,2).reshape(4,4)\n",
    "print(Y)"
   ]
  },
  {
   "cell_type": "code",
   "execution_count": 33,
   "id": "a9de8d7e",
   "metadata": {},
   "outputs": [
    {
     "name": "stdout",
     "output_type": "stream",
     "text": [
      "[ 6  4 49]\n"
     ]
    }
   ],
   "source": [
    "print(x)"
   ]
  },
  {
   "cell_type": "code",
   "execution_count": 15,
   "id": "b00e20dc",
   "metadata": {},
   "outputs": [
    {
     "name": "stdout",
     "output_type": "stream",
     "text": [
      "index position 2 is 4\n",
      "index position -2 is 78\n",
      "[ 1  6  4 49 56]\n"
     ]
    }
   ],
   "source": [
    "print(\"index position 2 is\",x[2])\n",
    "print(\"index position -2 is\",x[-2])\n",
    "x[-2]=49\n",
    "print(x)"
   ]
  },
  {
   "cell_type": "code",
   "execution_count": 24,
   "id": "00f528c2",
   "metadata": {},
   "outputs": [
    {
     "name": "stdout",
     "output_type": "stream",
     "text": [
      "[[ 2  4  6  8]\n",
      " [10 12 14 16]\n",
      " [18 20 22 24]\n",
      " [45 28 30 32]]\n",
      "45\n",
      "[45 28 30 32]\n"
     ]
    }
   ],
   "source": [
    "print(Y)\n",
    "print(Y[3,0])\n",
    "Y[3,0]=45\n",
    "print(Y[3])"
   ]
  },
  {
   "cell_type": "code",
   "execution_count": 38,
   "id": "6ec7bac1",
   "metadata": {},
   "outputs": [
    {
     "name": "stdout",
     "output_type": "stream",
     "text": [
      "[ 1  6  4 78 56]\n",
      "[ 6  4 78]\n"
     ]
    }
   ],
   "source": [
    "print(x)\n",
    "Del_x_members=np.delete(x,[0,4])\n",
    "print(Del_x_members)"
   ]
  },
  {
   "cell_type": "code",
   "execution_count": null,
   "id": "9ff1ebea",
   "metadata": {},
   "outputs": [],
   "source": []
  },
  {
   "cell_type": "code",
   "execution_count": 43,
   "id": "984760cb",
   "metadata": {},
   "outputs": [
    {
     "name": "stdout",
     "output_type": "stream",
     "text": [
      "[[ 2  4  6  8]\n",
      " [10 12 14 16]\n",
      " [18 20 22 24]\n",
      " [45 28 30 32]]\n",
      "[[10 12 14 16]\n",
      " [45 28 30 32]]\n",
      "[[ 4  8]\n",
      " [12 16]\n",
      " [20 24]\n",
      " [28 32]]\n"
     ]
    }
   ],
   "source": [
    "print(Y)\n",
    "Del_Y_row = np.delete(Y,[0,2], axis=0)\n",
    "print(Del_Y_row)\n",
    "Del_Y_column = np.delete(Y,[0,2], axis=1)\n",
    "print(Del_Y_column)"
   ]
  },
  {
   "cell_type": "code",
   "execution_count": 62,
   "id": "a882501e",
   "metadata": {},
   "outputs": [
    {
     "name": "stdout",
     "output_type": "stream",
     "text": [
      "[ 1  6  4 78 56]\n",
      "[ 1  6  4 78 56 32 56 21 14]\n",
      "[[ 1  6  4]\n",
      " [78 56 32]\n",
      " [56 21 14]]\n",
      "[[ 1  6  4]\n",
      " [78 56 32]\n",
      " [56 21 14]\n",
      " [ 5  4  3]]\n",
      "[[ 1  6  4 17]\n",
      " [78 56 32 13]\n",
      " [56 21 14 11]]\n"
     ]
    }
   ],
   "source": [
    "print(x)\n",
    "Append_to_x = np.append(x,[32,56,21,14])\n",
    "print(Append_to_x)\n",
    "Reshape_x = np.reshape(Append_to_x,[3,3])\n",
    "print(Reshape_x)\n",
    "Append_row = np.append(Reshape_x,[[5,4,3]], axis=0)\n",
    "print(Append_row)\n",
    "Append_column = np.append(Reshape_x,[[17],[13],[11]], axis=1)\n",
    "print(Append_column)"
   ]
  },
  {
   "cell_type": "code",
   "execution_count": 63,
   "id": "a38fa228",
   "metadata": {},
   "outputs": [],
   "source": [
    "# We insert a row between the first and last row of y\n",
    "#w = np.insert(Y,1,[4,5,6],axis=0)\n",
    "\n",
    "# We insert a column full of 5s between the first and second column of y\n",
    "#v = np.insert(Y,1,5, axis=1)"
   ]
  },
  {
   "cell_type": "code",
   "execution_count": 100,
   "id": "8c9f7537",
   "metadata": {},
   "outputs": [
    {
     "name": "stdout",
     "output_type": "stream",
     "text": [
      "[[ 2  4  6  8]\n",
      " [10 12 14 16]\n",
      " [18 20 12 24]\n",
      " [26 28 51 32]]\n",
      "[[ 4  6]\n",
      " [12 14]]\n",
      "[[12 24]\n",
      " [51 32]]\n",
      "[ 6 14 12 51]\n"
     ]
    }
   ],
   "source": [
    "print(Y)\n",
    "Slicing_y = Y[0:2,1:3]\n",
    "#Starts from the no. before the column and stopes before the number after the column. First Param is column, second is row.\n",
    "print(Slicing_y)\n",
    "\n",
    "Slicing_yy = Y[2:,2:]\n",
    "# start:end. if start side is left blank, it starts from the beginning and stops at the last data if end is left blank. \n",
    "print(Slicing_yy)\n",
    "\n",
    "Slicing_yyy = Y[:,2]\n",
    "print(Slicing_yyy)\n"
   ]
  },
  {
   "cell_type": "code",
   "execution_count": 95,
   "id": "6e4d5823",
   "metadata": {},
   "outputs": [
    {
     "name": "stdout",
     "output_type": "stream",
     "text": [
      "[[ 2  4  6  8]\n",
      " [10 12 14 16]\n",
      " [18 20 22 24]\n",
      " [26 28 30 32]]\n",
      "\n",
      "30\n",
      "\n",
      "[ 6 14 22 51]\n"
     ]
    }
   ],
   "source": [
    "#when slicing, the varible being assigned to the sliced data isn't actually assigned. Its just showing a view of the portion of data.\n",
    "#To actually make afresh assignment which can be altered without altering the original data set, .copy() method is used.\n",
    "\n",
    "print(Y)\n",
    "print(\"\")\n",
    "print(Slicing_yyy[3])\n",
    "print(\"\")\n",
    "Slicing_yyy[3]=51\n",
    "print(Slicing_yyy)"
   ]
  },
  {
   "cell_type": "code",
   "execution_count": 96,
   "id": "a210fe18",
   "metadata": {},
   "outputs": [
    {
     "name": "stdout",
     "output_type": "stream",
     "text": [
      "[[ 2  4  6  8]\n",
      " [10 12 14 16]\n",
      " [18 20 22 24]\n",
      " [26 28 51 32]]\n"
     ]
    }
   ],
   "source": [
    "print(Y)"
   ]
  },
  {
   "cell_type": "code",
   "execution_count": 110,
   "id": "d69c5fbd",
   "metadata": {},
   "outputs": [
    {
     "name": "stdout",
     "output_type": "stream",
     "text": [
      "[[ 2  4  6  8]\n",
      " [10 12 14 16]\n",
      " [18 20 22 24]\n",
      " [26 28 30 32]]\n",
      "\n",
      "[[ 2 12  6  8]]\n",
      "\n",
      "[[ 2  4  6  8]\n",
      " [10 12 14 16]\n",
      " [18 20 22 24]\n",
      " [26 28 30 32]]\n"
     ]
    }
   ],
   "source": [
    "#In order not to alter Y when altering Slicing_yyy which is a subset of Y, we use the copy() method.\n",
    "print(Y)\n",
    "print(\"\")\n",
    "Slicing_yyyy= Y[:1,:].copy()\n",
    "Slicing_yyyy[:1,1:2]=12\n",
    "print(Slicing_yyyy)\n",
    "print(\"\")\n",
    "print(Y)\n"
   ]
  },
  {
   "cell_type": "code",
   "execution_count": 15,
   "id": "051c9cd9",
   "metadata": {},
   "outputs": [
    {
     "name": "stdout",
     "output_type": "stream",
     "text": [
      "[ 0  1  2  3  4  5  6  7  8  9 10 11]\n"
     ]
    },
    {
     "ename": "TypeError",
     "evalue": "unsupported operand type(s) for &: 'list' and 'list'",
     "output_type": "error",
     "traceback": [
      "\u001b[0;31m---------------------------------------------------------------------------\u001b[0m",
      "\u001b[0;31mTypeError\u001b[0m                                 Traceback (most recent call last)",
      "Input \u001b[0;32mIn [15]\u001b[0m, in \u001b[0;36m<cell line: 3>\u001b[0;34m()\u001b[0m\n\u001b[1;32m      1\u001b[0m ee\u001b[38;5;241m=\u001b[39mnp\u001b[38;5;241m.\u001b[39marange(\u001b[38;5;241m12\u001b[39m)\n\u001b[1;32m      2\u001b[0m \u001b[38;5;28mprint\u001b[39m(ee)\n\u001b[0;32m----> 3\u001b[0m \u001b[38;5;28mprint\u001b[39m(ee[\u001b[43m[\u001b[49m\u001b[43mee\u001b[49m\u001b[38;5;241;43m>\u001b[39;49m\u001b[38;5;241;43m3\u001b[39;49m\u001b[43m]\u001b[49m\u001b[43m \u001b[49m\u001b[38;5;241;43m&\u001b[39;49m\u001b[43m \u001b[49m\u001b[43m[\u001b[49m\u001b[43mee\u001b[49m\u001b[38;5;241;43m<\u001b[39;49m\u001b[38;5;241;43m10\u001b[39;49m\u001b[43m]\u001b[49m])\n",
      "\u001b[0;31mTypeError\u001b[0m: unsupported operand type(s) for &: 'list' and 'list'"
     ]
    }
   ],
   "source": [
    "ee=np.arange(12)\n",
    "print(ee)\n",
    "print(ee[[ee>3] & [ee<10]])"
   ]
  },
  {
   "cell_type": "code",
   "execution_count": 17,
   "id": "eb65bd1e",
   "metadata": {},
   "outputs": [
    {
     "name": "stdout",
     "output_type": "stream",
     "text": [
      "[ 1  3  5  7  9 11 13 15 17 19 21 23 25]\n"
     ]
    }
   ],
   "source": [
    "Xx = np.arange(1,26).reshape(5,5)\n",
    "\n",
    "# Use Boolean indexing to pick out only the odd numbers in the array\n",
    "Y = Xx[Xx%2!=0]\n",
    "print(Y)"
   ]
  },
  {
   "cell_type": "code",
   "execution_count": 61,
   "id": "105995ea",
   "metadata": {},
   "outputs": [
    {
     "name": "stdout",
     "output_type": "stream",
     "text": [
      "\n",
      "Original g = \n",
      " [[ 0  1  2  3  4]\n",
      " [ 5  6  7  8  9]\n",
      " [10 11 12 13 14]\n",
      " [15 16 17 18 19]\n",
      " [20 21 22 23 24]]\n",
      "\n",
      "The elements in g that are greater than 10: [11 12 13 14 15 16 17 18 19 20 21 22 23 24]\n",
      "The elements in g that less than or equal to 7: [0 1 2 3 4 5 6 7]\n",
      "The elements in g that are between 10 and 17: [11 12 13 14 15 16]\n",
      "\n",
      "g = \n",
      " [[ 0  1  2  3  4]\n",
      " [ 5  6  7  8  9]\n",
      " [10 -1 -1 -1 -1]\n",
      " [-1 -1 17 18 19]\n",
      " [20 21 22 23 24]]\n"
     ]
    }
   ],
   "source": [
    "#Boolean Indexing\n",
    "g = np.arange(25).reshape(5, 5)\n",
    "\n",
    "# We print g\n",
    "print()\n",
    "print('Original g = \\n', g)\n",
    "print()\n",
    "\n",
    "# We use Boolean indexing to select elements in g:\n",
    "print('The elements in g that are greater than 10:', g[g > 10])\n",
    "print('The elements in g that less than or equal to 7:', g[g <= 7])\n",
    "print('The elements in g that are between 10 and 17:', g[(g > 10) & (g < 17)])\n",
    "\n",
    "# We use Boolean indexing to assign the elements that are between 10 and 17 the value of -1\n",
    "g[(g > 10) & (g < 17)] = -1\n",
    "\n",
    "# We print g\n",
    "print()\n",
    "print('g = \\n', g)"
   ]
  },
  {
   "cell_type": "code",
   "execution_count": 62,
   "id": "10ff6f1e",
   "metadata": {},
   "outputs": [
    {
     "name": "stdout",
     "output_type": "stream",
     "text": [
      "\n",
      "h =  [1 2 3 4 5]\n",
      "\n",
      "i =  [6 7 2 8 4]\n",
      "\n",
      "The elements that are both in h and i: [2 4]\n",
      "The elements that are in h that are not in i: [1 3 5]\n",
      "All the elements of h and i: [1 2 3 4 5 6 7 8]\n"
     ]
    }
   ],
   "source": [
    "#Set operations\n",
    "# We create a rank 1 ndarray\n",
    "h = np.array([1,2,3,4,5])\n",
    "\n",
    "# We create a rank 1 ndarray\n",
    "i = np.array([6,7,2,8,4])\n",
    "\n",
    "# We print h\n",
    "print()\n",
    "print('h = ', h)\n",
    "\n",
    "# We print i\n",
    "print()\n",
    "print('i = ', i)\n",
    "\n",
    "# We use set operations to compare h and i:\n",
    "print()\n",
    "print('The elements that are both in h and i:', np.intersect1d(h,i))\n",
    "print('The elements that are in h that are not in i:', np.setdiff1d(h,i))\n",
    "print('All the elements of h and i:',np.union1d(h,i))"
   ]
  },
  {
   "cell_type": "code",
   "execution_count": 2,
   "id": "609095ee",
   "metadata": {},
   "outputs": [
    {
     "name": "stdout",
     "output_type": "stream",
     "text": [
      "# packages in environment at /home/jossy/anaconda3:\r\n",
      "#\r\n",
      "# Name                    Version                   Build  Channel\r\n",
      "pandas                    1.4.2            py39h295c915_0  \r\n"
     ]
    }
   ],
   "source": [
    "!conda list panda"
   ]
  },
  {
   "cell_type": "code",
   "execution_count": 3,
   "id": "d3dedd56",
   "metadata": {},
   "outputs": [],
   "source": [
    "import pandas as pd"
   ]
  },
  {
   "cell_type": "code",
   "execution_count": 39,
   "id": "f3d74ccf",
   "metadata": {},
   "outputs": [
    {
     "data": {
      "text/plain": [
       "Orange          Carrot\n",
       "Green           Apples\n",
       "Red       Water melons\n",
       "4              Mangoes\n",
       "54                Nuts\n",
       "dtype: object"
      ]
     },
     "execution_count": 39,
     "metadata": {},
     "output_type": "execute_result"
    }
   ],
   "source": [
    "fruits_colours = pd.Series(data=[\"Carrot\",\"Apples\",\"Water melons\", \"Mangoes\", \"Nuts\"], \n",
    "                           index=[\"Orange\",\"Green\",\"Red\", 4, 54])\n",
    "fruits_colours"
   ]
  },
  {
   "cell_type": "code",
   "execution_count": 5,
   "id": "f8dd6370",
   "metadata": {},
   "outputs": [
    {
     "data": {
      "text/plain": [
       "(3,)"
      ]
     },
     "execution_count": 5,
     "metadata": {},
     "output_type": "execute_result"
    }
   ],
   "source": [
    "fruits_colours.shape\n"
   ]
  },
  {
   "cell_type": "code",
   "execution_count": 6,
   "id": "84177acf",
   "metadata": {},
   "outputs": [
    {
     "data": {
      "text/plain": [
       "3"
      ]
     },
     "execution_count": 6,
     "metadata": {},
     "output_type": "execute_result"
    }
   ],
   "source": [
    "fruits_colours.size\n"
   ]
  },
  {
   "cell_type": "code",
   "execution_count": 7,
   "id": "07544f18",
   "metadata": {},
   "outputs": [
    {
     "data": {
      "text/plain": [
       "1"
      ]
     },
     "execution_count": 7,
     "metadata": {},
     "output_type": "execute_result"
    }
   ],
   "source": [
    "fruits_colours.ndim"
   ]
  },
  {
   "cell_type": "code",
   "execution_count": 29,
   "id": "9f508c90",
   "metadata": {},
   "outputs": [
    {
     "data": {
      "text/plain": [
       "'Apples'"
      ]
     },
     "execution_count": 29,
     "metadata": {},
     "output_type": "execute_result"
    }
   ],
   "source": [
    "fruits_colours[\"Green\"]\n",
    "# Given the index \"Green\", this prints the corresponding data pair"
   ]
  },
  {
   "cell_type": "code",
   "execution_count": 27,
   "id": "0d88fd48",
   "metadata": {},
   "outputs": [
    {
     "data": {
      "text/plain": [
       "'Apples'"
      ]
     },
     "execution_count": 27,
     "metadata": {},
     "output_type": "execute_result"
    }
   ],
   "source": [
    "fruits_colours[1]\n",
    "# Given the index number, this prints the corresponding data pair"
   ]
  },
  {
   "cell_type": "code",
   "execution_count": 30,
   "id": "bce90ed4",
   "metadata": {},
   "outputs": [
    {
     "data": {
      "text/plain": [
       "Green          Apples\n",
       "Red      Water melons\n",
       "dtype: object"
      ]
     },
     "execution_count": 30,
     "metadata": {},
     "output_type": "execute_result"
    }
   ],
   "source": [
    "fruits_colours[[1,2]]\n",
    "# Given the set of indices, this prints the corresponding data set"
   ]
  },
  {
   "cell_type": "code",
   "execution_count": 40,
   "id": "b02e0424",
   "metadata": {},
   "outputs": [
    {
     "data": {
      "text/plain": [
       "'Nuts'"
      ]
     },
     "execution_count": 40,
     "metadata": {},
     "output_type": "execute_result"
    }
   ],
   "source": [
    "#complications could arise when indices data set contain numbers in their dataset. To stem this confusion, the \n",
    "# .loc() sorts the actual data while .iloc() sort the data by index number of the data.\n",
    "fruits_colours.iloc[4]"
   ]
  },
  {
   "cell_type": "code",
   "execution_count": 41,
   "id": "ef3ebcd4",
   "metadata": {},
   "outputs": [
    {
     "data": {
      "text/plain": [
       "'Mangoes'"
      ]
     },
     "execution_count": 41,
     "metadata": {},
     "output_type": "execute_result"
    }
   ],
   "source": [
    "fruits_colours.loc[4]"
   ]
  },
  {
   "cell_type": "code",
   "execution_count": 43,
   "id": "78cfbd55",
   "metadata": {},
   "outputs": [
    {
     "data": {
      "text/plain": [
       "Red       Water melons\n",
       "Orange          Carrot\n",
       "4              Mangoes\n",
       "dtype: object"
      ]
     },
     "execution_count": 43,
     "metadata": {},
     "output_type": "execute_result"
    }
   ],
   "source": [
    "fruits_colours[[\"Red\",\"Orange\",4]]"
   ]
  },
  {
   "cell_type": "code",
   "execution_count": 44,
   "id": "0c5514c4",
   "metadata": {},
   "outputs": [
    {
     "data": {
      "text/plain": [
       "Orange     Carrot\n",
       "Green      Apples\n",
       "4         Mangoes\n",
       "54           Nuts\n",
       "dtype: object"
      ]
     },
     "execution_count": 44,
     "metadata": {},
     "output_type": "execute_result"
    }
   ],
   "source": [
    "fruits_colours.drop([\"Red\"])\n"
   ]
  },
  {
   "cell_type": "code",
   "execution_count": 45,
   "id": "7cd53889",
   "metadata": {},
   "outputs": [
    {
     "data": {
      "text/plain": [
       "Orange          Carrot\n",
       "Green           Apples\n",
       "Red       Water melons\n",
       "4              Mangoes\n",
       "54                Nuts\n",
       "dtype: object"
      ]
     },
     "execution_count": 45,
     "metadata": {},
     "output_type": "execute_result"
    }
   ],
   "source": [
    "fruits_colours"
   ]
  },
  {
   "cell_type": "code",
   "execution_count": 46,
   "id": "b16db5cc",
   "metadata": {},
   "outputs": [],
   "source": [
    "fruits_colours.drop([\"Red\"], inplace=True)"
   ]
  },
  {
   "cell_type": "code",
   "execution_count": 47,
   "id": "1d1c3892",
   "metadata": {},
   "outputs": [
    {
     "data": {
      "text/plain": [
       "Orange     Carrot\n",
       "Green      Apples\n",
       "4         Mangoes\n",
       "54           Nuts\n",
       "dtype: object"
      ]
     },
     "execution_count": 47,
     "metadata": {},
     "output_type": "execute_result"
    }
   ],
   "source": [
    "fruits_colours"
   ]
  },
  {
   "cell_type": "code",
   "execution_count": 49,
   "id": "998685c6",
   "metadata": {},
   "outputs": [],
   "source": [
    "#From the drop function above we see that .drop() only remove the index from that list. To totally expuange an\n",
    "# index item, we add the inplace=True. This removes the index item from the original data set."
   ]
  },
  {
   "cell_type": "code",
   "execution_count": 53,
   "id": "614bc398",
   "metadata": {},
   "outputs": [
    {
     "data": {
      "text/plain": [
       "apples     10\n",
       "oranges     6\n",
       "bananas     3\n",
       "dtype: int64"
      ]
     },
     "execution_count": 53,
     "metadata": {},
     "output_type": "execute_result"
    }
   ],
   "source": [
    "fruits= pd.Series([10, 6, 3,],['apples', 'oranges', 'bananas'])\n",
    "\n",
    "# We display the fruits pandas Series\n",
    "fruits"
   ]
  },
  {
   "cell_type": "code",
   "execution_count": 54,
   "id": "e683c80e",
   "metadata": {},
   "outputs": [
    {
     "name": "stdout",
     "output_type": "stream",
     "text": [
      "fruits + 2:\n",
      " apples     12\n",
      "oranges     8\n",
      "bananas     5\n",
      "dtype: int64\n",
      "\n",
      "fruits - 2:\n",
      " apples     8\n",
      "oranges    4\n",
      "bananas    1\n",
      "dtype: int64\n",
      "\n",
      "fruits * 2:\n",
      " apples     20\n",
      "oranges    12\n",
      "bananas     6\n",
      "dtype: int64\n",
      "\n",
      "fruits / 2:\n",
      " apples     5.0\n",
      "oranges    3.0\n",
      "bananas    1.5\n",
      "dtype: float64\n"
     ]
    }
   ],
   "source": [
    "print('fruits + 2:\\n', fruits + 2) # We add 2 to each item in fruits\n",
    "print()\n",
    "print('fruits - 2:\\n', fruits - 2) # We subtract 2 to each item in fruits\n",
    "print()\n",
    "print('fruits * 2:\\n', fruits * 2) # We multiply each item in fruits by 2 \n",
    "print()\n",
    "print('fruits / 2:\\n', fruits / 2) # We divide each item in fruits by 2"
   ]
  },
  {
   "cell_type": "code",
   "execution_count": 59,
   "id": "cdf0545b",
   "metadata": {},
   "outputs": [
    {
     "name": "stdout",
     "output_type": "stream",
     "text": [
      "EXP(X) = \n",
      " apples     22026.465795\n",
      "oranges      403.428793\n",
      "bananas       20.085537\n",
      "dtype: float64\n",
      "\n",
      "SQRT(X) =\n",
      " apples     3.162278\n",
      "oranges    2.449490\n",
      "bananas    1.732051\n",
      "dtype: float64\n",
      "\n",
      "POW(X,2) =\n",
      " apples     100\n",
      "oranges     36\n",
      "bananas      9\n",
      "dtype: int64\n"
     ]
    }
   ],
   "source": [
    "print('EXP(X) = \\n', np.exp(fruits))\n",
    "print() \n",
    "print('SQRT(X) =\\n', np.sqrt(fruits))\n",
    "print()\n",
    "print('POW(X,2) =\\n',np.power(fruits,2))\n",
    "#Note that these functions use numpy module and so should be imported."
   ]
  },
  {
   "cell_type": "code",
   "execution_count": 60,
   "id": "7c96fb3c",
   "metadata": {},
   "outputs": [
    {
     "name": "stdout",
     "output_type": "stream",
     "text": [
      "Amount of bananas + 2 =  5\n",
      "\n",
      "Amount of apples - 2 =  8\n",
      "\n",
      "We double the amount of apples and oranges:\n",
      " apples     20\n",
      "oranges    12\n",
      "dtype: int64\n",
      "\n",
      "We half the amount of apples and oranges:\n",
      " apples     5.0\n",
      "oranges    3.0\n",
      "dtype: float64\n"
     ]
    }
   ],
   "source": [
    "# We add 2 only to the bananas\n",
    "print('Amount of bananas + 2 = ', fruits['bananas'] + 2)\n",
    "print()\n",
    "\n",
    "# We subtract 2 from apples using index locator\n",
    "print('Amount of apples - 2 = ', fruits.iloc[0] - 2)\n",
    "print()\n",
    "\n",
    "# We multiply apples and oranges by 2\n",
    "print('We double the amount of apples and oranges:\\n', fruits[['apples', 'oranges']] * 2)\n",
    "print()\n",
    "\n",
    "# We divide apples and oranges by 2\n",
    "print('We half the amount of apples and oranges:\\n', fruits.loc[['apples', 'oranges']] / 2)"
   ]
  },
  {
   "cell_type": "code",
   "execution_count": 98,
   "id": "00ca5d05",
   "metadata": {},
   "outputs": [
    {
     "data": {
      "text/html": [
       "<div>\n",
       "<style scoped>\n",
       "    .dataframe tbody tr th:only-of-type {\n",
       "        vertical-align: middle;\n",
       "    }\n",
       "\n",
       "    .dataframe tbody tr th {\n",
       "        vertical-align: top;\n",
       "    }\n",
       "\n",
       "    .dataframe thead th {\n",
       "        text-align: right;\n",
       "    }\n",
       "</style>\n",
       "<table border=\"1\" class=\"dataframe\">\n",
       "  <thead>\n",
       "    <tr style=\"text-align: right;\">\n",
       "      <th></th>\n",
       "      <th>Jossy</th>\n",
       "      <th>Joy</th>\n",
       "    </tr>\n",
       "  </thead>\n",
       "  <tbody>\n",
       "    <tr>\n",
       "      <th>Gown</th>\n",
       "      <td>NaN</td>\n",
       "      <td>24.0</td>\n",
       "    </tr>\n",
       "    <tr>\n",
       "      <th>Shirt</th>\n",
       "      <td>22.0</td>\n",
       "      <td>50.0</td>\n",
       "    </tr>\n",
       "    <tr>\n",
       "      <th>Shoe</th>\n",
       "      <td>35.0</td>\n",
       "      <td>21.0</td>\n",
       "    </tr>\n",
       "    <tr>\n",
       "      <th>Shorts</th>\n",
       "      <td>NaN</td>\n",
       "      <td>12.0</td>\n",
       "    </tr>\n",
       "    <tr>\n",
       "      <th>Trouser</th>\n",
       "      <td>40.0</td>\n",
       "      <td>NaN</td>\n",
       "    </tr>\n",
       "  </tbody>\n",
       "</table>\n",
       "</div>"
      ],
      "text/plain": [
       "         Jossy   Joy\n",
       "Gown       NaN  24.0\n",
       "Shirt     22.0  50.0\n",
       "Shoe      35.0  21.0\n",
       "Shorts     NaN  12.0\n",
       "Trouser   40.0   NaN"
      ]
     },
     "execution_count": 98,
     "metadata": {},
     "output_type": "execute_result"
    }
   ],
   "source": [
    "item={\"Jossy\":pd.Series([35,40,22],['Shoe','Trouser','Shirt']),\n",
    "      \"Joy\":pd.Series([12,21,24,50], ['Shorts','Shoe','Gown','Shirt'])}\n",
    "\n",
    "DT_item = pd.DataFrame(item)\n",
    "\n",
    "DT_item\n",
    "#DataFrame represents a dictionary, key value-pairs in a tabular form."
   ]
  },
  {
   "cell_type": "code",
   "execution_count": 102,
   "id": "eded6bdc",
   "metadata": {},
   "outputs": [
    {
     "data": {
      "text/plain": [
       "pandas.core.frame.DataFrame"
      ]
     },
     "execution_count": 102,
     "metadata": {},
     "output_type": "execute_result"
    }
   ],
   "source": [
    "type(DT_item)"
   ]
  },
  {
   "cell_type": "code",
   "execution_count": 84,
   "id": "d2a5388a",
   "metadata": {},
   "outputs": [
    {
     "data": {
      "text/plain": [
       "dict"
      ]
     },
     "execution_count": 84,
     "metadata": {},
     "output_type": "execute_result"
    }
   ],
   "source": [
    "type(item)"
   ]
  },
  {
   "cell_type": "code",
   "execution_count": 88,
   "id": "959b9373",
   "metadata": {},
   "outputs": [
    {
     "data": {
      "text/plain": [
       "\"There are several things to notice here, as explained below:\\n\\nWe see that DataFrames are displayed in tabular form, much like an Excel spreadsheet, with the labels of rows and columns in bold.\\n\\nAlso, notice that the row labels of the DataFrame are built from the union of the index labels of the two pandas Series we used to construct the dictionary. And the column labels of the DataFrame are taken from the keys of the dictionary.\\n\\nAnother thing to notice is that the columns are arranged alphabetically and not in the order given in the dictionary. We will see later that this won't happen when we load data into a DataFrame from a data file.\\n\\nThe last thing we want to point out is that we see some NaN values appear in the DataFrame. NaN stands for Not a Number, and is pandas' way of indicating that it doesn't have a value for that particular row and column index. For example, if we look at the column of Alice, we see that it has NaN in the watch index. You can see why this is the case by looking at the dictionary we created at the beginning. We clearly see that the dictionary has no item for Alice labeled watches. So whenever a DataFrame is created, if a particular column doesn't have values for a particular row index, pandas will put a NaN value there.\\n\\n5. If we were to feed this data into a machine learning algorithm we will have to remove these NaN values first. In a later lesson, we will learn how to deal with NaN values and clean our data. For now, we will leave these values in our DataFrame.\""
      ]
     },
     "execution_count": 88,
     "metadata": {},
     "output_type": "execute_result"
    }
   ],
   "source": [
    "'''There are several things to notice here, as explained below:\n",
    "\n",
    "We see that DataFrames are displayed in tabular form, much like an Excel spreadsheet, with the labels of rows and columns in bold.\n",
    "\n",
    "Also, notice that the row labels of the DataFrame are built from the union of the index labels of the two pandas Series we used to construct the dictionary. And the column labels of the DataFrame are taken from the keys of the dictionary.\n",
    "\n",
    "Another thing to notice is that the columns are arranged alphabetically and not in the order given in the dictionary. We will see later that this won't happen when we load data into a DataFrame from a data file.\n",
    "\n",
    "The last thing we want to point out is that we see some NaN values appear in the DataFrame. NaN stands for Not a Number, and is pandas' way of indicating that it doesn't have a value for that particular row and column index. For example, if we look at the column of Alice, we see that it has NaN in the watch index. You can see why this is the case by looking at the dictionary we created at the beginning. We clearly see that the dictionary has no item for Alice labeled watches. So whenever a DataFrame is created, if a particular column doesn't have values for a particular row index, pandas will put a NaN value there.\n",
    "\n",
    "5. If we were to feed this data into a machine learning algorithm we will have to remove these NaN values first. In a later lesson, we will learn how to deal with NaN values and clean our data. For now, we will leave these values in our DataFrame.'''"
   ]
  },
  {
   "cell_type": "code",
   "execution_count": 89,
   "id": "60da269a",
   "metadata": {},
   "outputs": [
    {
     "data": {
      "text/html": [
       "<div>\n",
       "<style scoped>\n",
       "    .dataframe tbody tr th:only-of-type {\n",
       "        vertical-align: middle;\n",
       "    }\n",
       "\n",
       "    .dataframe tbody tr th {\n",
       "        vertical-align: top;\n",
       "    }\n",
       "\n",
       "    .dataframe thead th {\n",
       "        text-align: right;\n",
       "    }\n",
       "</style>\n",
       "<table border=\"1\" class=\"dataframe\">\n",
       "  <thead>\n",
       "    <tr style=\"text-align: right;\">\n",
       "      <th></th>\n",
       "      <th>Bob</th>\n",
       "      <th>Alice</th>\n",
       "    </tr>\n",
       "  </thead>\n",
       "  <tbody>\n",
       "    <tr>\n",
       "      <th>0</th>\n",
       "      <td>245.0</td>\n",
       "      <td>40</td>\n",
       "    </tr>\n",
       "    <tr>\n",
       "      <th>1</th>\n",
       "      <td>25.0</td>\n",
       "      <td>110</td>\n",
       "    </tr>\n",
       "    <tr>\n",
       "      <th>2</th>\n",
       "      <td>55.0</td>\n",
       "      <td>500</td>\n",
       "    </tr>\n",
       "    <tr>\n",
       "      <th>3</th>\n",
       "      <td>NaN</td>\n",
       "      <td>45</td>\n",
       "    </tr>\n",
       "  </tbody>\n",
       "</table>\n",
       "</div>"
      ],
      "text/plain": [
       "     Bob  Alice\n",
       "0  245.0     40\n",
       "1   25.0    110\n",
       "2   55.0    500\n",
       "3    NaN     45"
      ]
     },
     "execution_count": 89,
     "metadata": {},
     "output_type": "execute_result"
    }
   ],
   "source": [
    "data = {'Bob' : pd.Series([245, 25, 55]),\n",
    "        'Alice' : pd.Series([40, 110, 500, 45])}\n",
    "\n",
    "# We create a DataFrame\n",
    "df = pd.DataFrame(data)\n",
    "\n",
    "# We display the DataFrame\n",
    "df\n",
    "#When no index is available, the index starting for zero is automatically added."
   ]
  },
  {
   "cell_type": "code",
   "execution_count": 104,
   "id": "09a5dff3",
   "metadata": {},
   "outputs": [
    {
     "data": {
      "text/html": [
       "<div>\n",
       "<style scoped>\n",
       "    .dataframe tbody tr th:only-of-type {\n",
       "        vertical-align: middle;\n",
       "    }\n",
       "\n",
       "    .dataframe tbody tr th {\n",
       "        vertical-align: top;\n",
       "    }\n",
       "\n",
       "    .dataframe thead th {\n",
       "        text-align: right;\n",
       "    }\n",
       "</style>\n",
       "<table border=\"1\" class=\"dataframe\">\n",
       "  <thead>\n",
       "    <tr style=\"text-align: right;\">\n",
       "      <th></th>\n",
       "      <th>Jossy</th>\n",
       "      <th>Joy</th>\n",
       "    </tr>\n",
       "  </thead>\n",
       "  <tbody>\n",
       "    <tr>\n",
       "      <th>Gown</th>\n",
       "      <td>NaN</td>\n",
       "      <td>24.0</td>\n",
       "    </tr>\n",
       "    <tr>\n",
       "      <th>Shirt</th>\n",
       "      <td>22.0</td>\n",
       "      <td>50.0</td>\n",
       "    </tr>\n",
       "    <tr>\n",
       "      <th>Shoe</th>\n",
       "      <td>35.0</td>\n",
       "      <td>21.0</td>\n",
       "    </tr>\n",
       "    <tr>\n",
       "      <th>Shorts</th>\n",
       "      <td>NaN</td>\n",
       "      <td>12.0</td>\n",
       "    </tr>\n",
       "    <tr>\n",
       "      <th>Trouser</th>\n",
       "      <td>40.0</td>\n",
       "      <td>NaN</td>\n",
       "    </tr>\n",
       "  </tbody>\n",
       "</table>\n",
       "</div>"
      ],
      "text/plain": [
       "         Jossy   Joy\n",
       "Gown       NaN  24.0\n",
       "Shirt     22.0  50.0\n",
       "Shoe      35.0  21.0\n",
       "Shorts     NaN  12.0\n",
       "Trouser   40.0   NaN"
      ]
     },
     "execution_count": 104,
     "metadata": {},
     "output_type": "execute_result"
    }
   ],
   "source": [
    "DT_item"
   ]
  },
  {
   "cell_type": "code",
   "execution_count": 105,
   "id": "f67c58b9",
   "metadata": {},
   "outputs": [
    {
     "name": "stdout",
     "output_type": "stream",
     "text": [
      "items has shape: (5, 2)\n",
      "items has dimension: 2\n",
      "items has a total of: 10 elements\n",
      "\n",
      "The data in items is:\n",
      " [[nan 24.]\n",
      " [22. 50.]\n",
      " [35. 21.]\n",
      " [nan 12.]\n",
      " [40. nan]]\n",
      "\n",
      "The row index in items is: Index(['Gown', 'Shirt', 'Shoe', 'Shorts', 'Trouser'], dtype='object')\n",
      "\n",
      "The column index in items is: Index(['Jossy', 'Joy'], dtype='object')\n"
     ]
    }
   ],
   "source": [
    "# We print some information about shopping_carts\n",
    "print('items has shape:', DT_item.shape)\n",
    "print('items has dimension:', DT_item.ndim)\n",
    "print('items has a total of:', DT_item.size, 'elements')\n",
    "print()\n",
    "print('The data in items is:\\n', DT_item.values)\n",
    "print()\n",
    "print('The row index in items is:', DT_item.index)\n",
    "print()\n",
    "print('The column index in items is:', DT_item.columns)"
   ]
  },
  {
   "cell_type": "code",
   "execution_count": 107,
   "id": "1af46d6f",
   "metadata": {},
   "outputs": [
    {
     "data": {
      "text/html": [
       "<div>\n",
       "<style scoped>\n",
       "    .dataframe tbody tr th:only-of-type {\n",
       "        vertical-align: middle;\n",
       "    }\n",
       "\n",
       "    .dataframe tbody tr th {\n",
       "        vertical-align: top;\n",
       "    }\n",
       "\n",
       "    .dataframe thead th {\n",
       "        text-align: right;\n",
       "    }\n",
       "</style>\n",
       "<table border=\"1\" class=\"dataframe\">\n",
       "  <thead>\n",
       "    <tr style=\"text-align: right;\">\n",
       "      <th></th>\n",
       "      <th>Jossy</th>\n",
       "    </tr>\n",
       "  </thead>\n",
       "  <tbody>\n",
       "    <tr>\n",
       "      <th>Gown</th>\n",
       "      <td>NaN</td>\n",
       "    </tr>\n",
       "    <tr>\n",
       "      <th>Shirt</th>\n",
       "      <td>22.0</td>\n",
       "    </tr>\n",
       "    <tr>\n",
       "      <th>Shoe</th>\n",
       "      <td>35.0</td>\n",
       "    </tr>\n",
       "    <tr>\n",
       "      <th>Shorts</th>\n",
       "      <td>NaN</td>\n",
       "    </tr>\n",
       "    <tr>\n",
       "      <th>Trouser</th>\n",
       "      <td>40.0</td>\n",
       "    </tr>\n",
       "  </tbody>\n",
       "</table>\n",
       "</div>"
      ],
      "text/plain": [
       "         Jossy\n",
       "Gown       NaN\n",
       "Shirt     22.0\n",
       "Shoe      35.0\n",
       "Shorts     NaN\n",
       "Trouser   40.0"
      ]
     },
     "execution_count": 107,
     "metadata": {},
     "output_type": "execute_result"
    }
   ],
   "source": [
    "# We Create a DataFrame that only has Bob's data\n",
    "Jossy_shopping_cart = pd.DataFrame(DT_item, columns=['Jossy'])\n",
    "\n",
    "# We display bob_shopping_cart\n",
    "Jossy_shopping_cart"
   ]
  },
  {
   "cell_type": "code",
   "execution_count": 108,
   "id": "1efa9f18",
   "metadata": {},
   "outputs": [
    {
     "data": {
      "text/html": [
       "<div>\n",
       "<style scoped>\n",
       "    .dataframe tbody tr th:only-of-type {\n",
       "        vertical-align: middle;\n",
       "    }\n",
       "\n",
       "    .dataframe tbody tr th {\n",
       "        vertical-align: top;\n",
       "    }\n",
       "\n",
       "    .dataframe thead th {\n",
       "        text-align: right;\n",
       "    }\n",
       "</style>\n",
       "<table border=\"1\" class=\"dataframe\">\n",
       "  <thead>\n",
       "    <tr style=\"text-align: right;\">\n",
       "      <th></th>\n",
       "      <th>Jossy</th>\n",
       "      <th>Joy</th>\n",
       "    </tr>\n",
       "  </thead>\n",
       "  <tbody>\n",
       "    <tr>\n",
       "      <th>Shirt</th>\n",
       "      <td>22.0</td>\n",
       "      <td>50.0</td>\n",
       "    </tr>\n",
       "    <tr>\n",
       "      <th>Gown</th>\n",
       "      <td>NaN</td>\n",
       "      <td>24.0</td>\n",
       "    </tr>\n",
       "  </tbody>\n",
       "</table>\n",
       "</div>"
      ],
      "text/plain": [
       "       Jossy   Joy\n",
       "Shirt   22.0  50.0\n",
       "Gown     NaN  24.0"
      ]
     },
     "execution_count": 108,
     "metadata": {},
     "output_type": "execute_result"
    }
   ],
   "source": [
    "#Selecting specific rows of a DataFrame\n",
    "# We Create a DataFrame that only has selected items for both Alice and Bob\n",
    "sel_shopping_cart = pd.DataFrame(DT_item, index = ['Shirt', 'Gown'])\n",
    "\n",
    "# We display sel_shopping_cart\n",
    "sel_shopping_cart"
   ]
  },
  {
   "cell_type": "code",
   "execution_count": 109,
   "id": "8932fd02",
   "metadata": {},
   "outputs": [
    {
     "data": {
      "text/html": [
       "<div>\n",
       "<style scoped>\n",
       "    .dataframe tbody tr th:only-of-type {\n",
       "        vertical-align: middle;\n",
       "    }\n",
       "\n",
       "    .dataframe tbody tr th {\n",
       "        vertical-align: top;\n",
       "    }\n",
       "\n",
       "    .dataframe thead th {\n",
       "        text-align: right;\n",
       "    }\n",
       "</style>\n",
       "<table border=\"1\" class=\"dataframe\">\n",
       "  <thead>\n",
       "    <tr style=\"text-align: right;\">\n",
       "      <th></th>\n",
       "      <th>Integers</th>\n",
       "      <th>Floats</th>\n",
       "    </tr>\n",
       "  </thead>\n",
       "  <tbody>\n",
       "    <tr>\n",
       "      <th>0</th>\n",
       "      <td>1</td>\n",
       "      <td>4.5</td>\n",
       "    </tr>\n",
       "    <tr>\n",
       "      <th>1</th>\n",
       "      <td>2</td>\n",
       "      <td>8.2</td>\n",
       "    </tr>\n",
       "    <tr>\n",
       "      <th>2</th>\n",
       "      <td>3</td>\n",
       "      <td>9.6</td>\n",
       "    </tr>\n",
       "  </tbody>\n",
       "</table>\n",
       "</div>"
      ],
      "text/plain": [
       "   Integers  Floats\n",
       "0         1     4.5\n",
       "1         2     8.2\n",
       "2         3     9.6"
      ]
     },
     "execution_count": 109,
     "metadata": {},
     "output_type": "execute_result"
    }
   ],
   "source": [
    "#Create a DataFrame using a dictionary of lists\n",
    "# We create a dictionary of lists (arrays)\n",
    "num_data = {'Integers' : [1,2,3],\n",
    "        'Floats' : [4.5, 8.2, 9.6]}\n",
    "\n",
    "# We create a DataFrame \n",
    "dF = pd.DataFrame(num_data)\n",
    "\n",
    "# We display the DataFrame\n",
    "dF"
   ]
  },
  {
   "cell_type": "code",
   "execution_count": 110,
   "id": "162cf9ba",
   "metadata": {},
   "outputs": [
    {
     "data": {
      "text/html": [
       "<div>\n",
       "<style scoped>\n",
       "    .dataframe tbody tr th:only-of-type {\n",
       "        vertical-align: middle;\n",
       "    }\n",
       "\n",
       "    .dataframe tbody tr th {\n",
       "        vertical-align: top;\n",
       "    }\n",
       "\n",
       "    .dataframe thead th {\n",
       "        text-align: right;\n",
       "    }\n",
       "</style>\n",
       "<table border=\"1\" class=\"dataframe\">\n",
       "  <thead>\n",
       "    <tr style=\"text-align: right;\">\n",
       "      <th></th>\n",
       "      <th>Integers</th>\n",
       "      <th>Floats</th>\n",
       "    </tr>\n",
       "  </thead>\n",
       "  <tbody>\n",
       "    <tr>\n",
       "      <th>label 1</th>\n",
       "      <td>1</td>\n",
       "      <td>4.5</td>\n",
       "    </tr>\n",
       "    <tr>\n",
       "      <th>label 2</th>\n",
       "      <td>2</td>\n",
       "      <td>8.2</td>\n",
       "    </tr>\n",
       "    <tr>\n",
       "      <th>label 3</th>\n",
       "      <td>3</td>\n",
       "      <td>9.6</td>\n",
       "    </tr>\n",
       "  </tbody>\n",
       "</table>\n",
       "</div>"
      ],
      "text/plain": [
       "         Integers  Floats\n",
       "label 1         1     4.5\n",
       "label 2         2     8.2\n",
       "label 3         3     9.6"
      ]
     },
     "execution_count": 110,
     "metadata": {},
     "output_type": "execute_result"
    }
   ],
   "source": [
    " #Create a DataFrame using a dictionary of lists, and custom row-indexes (labels)\n",
    "# We create a dictionary of lists (arrays)\n",
    "data_with_labels = {'Integers' : [1,2,3],\n",
    "        'Floats' : [4.5, 8.2, 9.6]}\n",
    "\n",
    "# We create a DataFrame and provide the row index\n",
    "dFf = pd.DataFrame(data_with_labels, index = ['label 1', 'label 2', 'label 3'])\n",
    "\n",
    "# We display the DataFrame\n",
    "dFf"
   ]
  },
  {
   "cell_type": "code",
   "execution_count": 111,
   "id": "19c93e40",
   "metadata": {},
   "outputs": [
    {
     "data": {
      "text/html": [
       "<div>\n",
       "<style scoped>\n",
       "    .dataframe tbody tr th:only-of-type {\n",
       "        vertical-align: middle;\n",
       "    }\n",
       "\n",
       "    .dataframe tbody tr th {\n",
       "        vertical-align: top;\n",
       "    }\n",
       "\n",
       "    .dataframe thead th {\n",
       "        text-align: right;\n",
       "    }\n",
       "</style>\n",
       "<table border=\"1\" class=\"dataframe\">\n",
       "  <thead>\n",
       "    <tr style=\"text-align: right;\">\n",
       "      <th></th>\n",
       "      <th>bikes</th>\n",
       "      <th>pants</th>\n",
       "      <th>watches</th>\n",
       "      <th>glasses</th>\n",
       "    </tr>\n",
       "  </thead>\n",
       "  <tbody>\n",
       "    <tr>\n",
       "      <th>0</th>\n",
       "      <td>20</td>\n",
       "      <td>30</td>\n",
       "      <td>35</td>\n",
       "      <td>NaN</td>\n",
       "    </tr>\n",
       "    <tr>\n",
       "      <th>1</th>\n",
       "      <td>15</td>\n",
       "      <td>5</td>\n",
       "      <td>10</td>\n",
       "      <td>50.0</td>\n",
       "    </tr>\n",
       "  </tbody>\n",
       "</table>\n",
       "</div>"
      ],
      "text/plain": [
       "   bikes  pants  watches  glasses\n",
       "0     20     30       35      NaN\n",
       "1     15      5       10     50.0"
      ]
     },
     "execution_count": 111,
     "metadata": {},
     "output_type": "execute_result"
    }
   ],
   "source": [
    "#Create a DataFrame using a of list of dictionaries\n",
    "# We create a list of Python dictionaries\n",
    "items2 = [{'bikes': 20, 'pants': 30, 'watches': 35}, \n",
    "          {'watches': 10, 'glasses': 50, 'bikes': 15, 'pants':5}]\n",
    "\n",
    "# We create a DataFrame \n",
    "store_items = pd.DataFrame(items2)\n",
    "\n",
    "# We display the DataFrame\n",
    "store_items"
   ]
  },
  {
   "cell_type": "code",
   "execution_count": 112,
   "id": "27cc058d",
   "metadata": {},
   "outputs": [
    {
     "data": {
      "text/html": [
       "<div>\n",
       "<style scoped>\n",
       "    .dataframe tbody tr th:only-of-type {\n",
       "        vertical-align: middle;\n",
       "    }\n",
       "\n",
       "    .dataframe tbody tr th {\n",
       "        vertical-align: top;\n",
       "    }\n",
       "\n",
       "    .dataframe thead th {\n",
       "        text-align: right;\n",
       "    }\n",
       "</style>\n",
       "<table border=\"1\" class=\"dataframe\">\n",
       "  <thead>\n",
       "    <tr style=\"text-align: right;\">\n",
       "      <th></th>\n",
       "      <th>bikes</th>\n",
       "      <th>pants</th>\n",
       "      <th>watches</th>\n",
       "      <th>glasses</th>\n",
       "    </tr>\n",
       "  </thead>\n",
       "  <tbody>\n",
       "    <tr>\n",
       "      <th>store 1</th>\n",
       "      <td>20</td>\n",
       "      <td>30</td>\n",
       "      <td>35</td>\n",
       "      <td>NaN</td>\n",
       "    </tr>\n",
       "    <tr>\n",
       "      <th>store 2</th>\n",
       "      <td>15</td>\n",
       "      <td>5</td>\n",
       "      <td>10</td>\n",
       "      <td>50.0</td>\n",
       "    </tr>\n",
       "  </tbody>\n",
       "</table>\n",
       "</div>"
      ],
      "text/plain": [
       "         bikes  pants  watches  glasses\n",
       "store 1     20     30       35      NaN\n",
       "store 2     15      5       10     50.0"
      ]
     },
     "execution_count": 112,
     "metadata": {},
     "output_type": "execute_result"
    }
   ],
   "source": [
    "#Create a DataFrame using a of list of dictionaries, and custom row-indexes (labels)\n",
    "# We create a list of Python dictionaries\n",
    "items3 = [{'bikes': 20, 'pants': 30, 'watches': 35}, \n",
    "          {'watches': 10, 'glasses': 50, 'bikes': 15, 'pants':5}]\n",
    "\n",
    "# We create a DataFrame  and provide the row index\n",
    "store_items2 = pd.DataFrame(items3, index = ['store 1', 'store 2'])\n",
    "\n",
    "# We display the DataFrame\n",
    "store_items2"
   ]
  },
  {
   "cell_type": "code",
   "execution_count": 113,
   "id": "d05772d6",
   "metadata": {},
   "outputs": [
    {
     "data": {
      "text/html": [
       "<div>\n",
       "<style scoped>\n",
       "    .dataframe tbody tr th:only-of-type {\n",
       "        vertical-align: middle;\n",
       "    }\n",
       "\n",
       "    .dataframe tbody tr th {\n",
       "        vertical-align: top;\n",
       "    }\n",
       "\n",
       "    .dataframe thead th {\n",
       "        text-align: right;\n",
       "    }\n",
       "</style>\n",
       "<table border=\"1\" class=\"dataframe\">\n",
       "  <thead>\n",
       "    <tr style=\"text-align: right;\">\n",
       "      <th></th>\n",
       "      <th>bikes</th>\n",
       "      <th>pants</th>\n",
       "      <th>watches</th>\n",
       "      <th>glasses</th>\n",
       "    </tr>\n",
       "  </thead>\n",
       "  <tbody>\n",
       "    <tr>\n",
       "      <th>store 3</th>\n",
       "      <td>20</td>\n",
       "      <td>30</td>\n",
       "      <td>35</td>\n",
       "      <td>4</td>\n",
       "    </tr>\n",
       "  </tbody>\n",
       "</table>\n",
       "</div>"
      ],
      "text/plain": [
       "         bikes  pants  watches  glasses\n",
       "store 3     20     30       35        4"
      ]
     },
     "execution_count": 113,
     "metadata": {},
     "output_type": "execute_result"
    }
   ],
   "source": [
    "#Create a row to be added to the DataFrame\n",
    "# We create a dictionary from a list of Python dictionaries that will contain the number of different items at the new store\n",
    "new_items = [{'bikes': 20, 'pants': 30, 'watches': 35, 'glasses': 4}]\n",
    "\n",
    "# We create new DataFrame with the new_items and provide and index labeled store 3\n",
    "new_store = pd.DataFrame(new_items, index = ['store 3'])\n",
    "\n",
    "# We display the items at the new store\n",
    "new_store"
   ]
  },
  {
   "cell_type": "code",
   "execution_count": 117,
   "id": "83e04a8d",
   "metadata": {},
   "outputs": [
    {
     "name": "stderr",
     "output_type": "stream",
     "text": [
      "/tmp/ipykernel_6405/2963285931.py:3: FutureWarning: The frame.append method is deprecated and will be removed from pandas in a future version. Use pandas.concat instead.\n",
      "  store_items = store_items2.append(new_store)\n"
     ]
    },
    {
     "data": {
      "text/html": [
       "<div>\n",
       "<style scoped>\n",
       "    .dataframe tbody tr th:only-of-type {\n",
       "        vertical-align: middle;\n",
       "    }\n",
       "\n",
       "    .dataframe tbody tr th {\n",
       "        vertical-align: top;\n",
       "    }\n",
       "\n",
       "    .dataframe thead th {\n",
       "        text-align: right;\n",
       "    }\n",
       "</style>\n",
       "<table border=\"1\" class=\"dataframe\">\n",
       "  <thead>\n",
       "    <tr style=\"text-align: right;\">\n",
       "      <th></th>\n",
       "      <th>bikes</th>\n",
       "      <th>pants</th>\n",
       "      <th>watches</th>\n",
       "      <th>glasses</th>\n",
       "    </tr>\n",
       "  </thead>\n",
       "  <tbody>\n",
       "    <tr>\n",
       "      <th>store 1</th>\n",
       "      <td>20</td>\n",
       "      <td>30</td>\n",
       "      <td>35</td>\n",
       "      <td>NaN</td>\n",
       "    </tr>\n",
       "    <tr>\n",
       "      <th>store 2</th>\n",
       "      <td>15</td>\n",
       "      <td>5</td>\n",
       "      <td>10</td>\n",
       "      <td>50.0</td>\n",
       "    </tr>\n",
       "    <tr>\n",
       "      <th>store 3</th>\n",
       "      <td>20</td>\n",
       "      <td>30</td>\n",
       "      <td>35</td>\n",
       "      <td>4.0</td>\n",
       "    </tr>\n",
       "  </tbody>\n",
       "</table>\n",
       "</div>"
      ],
      "text/plain": [
       "         bikes  pants  watches  glasses\n",
       "store 1     20     30       35      NaN\n",
       "store 2     15      5       10     50.0\n",
       "store 3     20     30       35      4.0"
      ]
     },
     "execution_count": 117,
     "metadata": {},
     "output_type": "execute_result"
    }
   ],
   "source": [
    "#Append the row to the DataFrame\n",
    "# We append store 3 to our store_items DataFrame\n",
    "store_items = store_items2.append(new_store)\n",
    "\n",
    "# We display the modified DataFrame\n",
    "store_items"
   ]
  },
  {
   "cell_type": "code",
   "execution_count": 118,
   "id": "15266e53",
   "metadata": {},
   "outputs": [
    {
     "data": {
      "text/html": [
       "<div>\n",
       "<style scoped>\n",
       "    .dataframe tbody tr th:only-of-type {\n",
       "        vertical-align: middle;\n",
       "    }\n",
       "\n",
       "    .dataframe tbody tr th {\n",
       "        vertical-align: top;\n",
       "    }\n",
       "\n",
       "    .dataframe thead th {\n",
       "        text-align: right;\n",
       "    }\n",
       "</style>\n",
       "<table border=\"1\" class=\"dataframe\">\n",
       "  <thead>\n",
       "    <tr style=\"text-align: right;\">\n",
       "      <th></th>\n",
       "      <th>bikes</th>\n",
       "      <th>pants</th>\n",
       "      <th>watches</th>\n",
       "      <th>glasses</th>\n",
       "      <th>new watches</th>\n",
       "    </tr>\n",
       "  </thead>\n",
       "  <tbody>\n",
       "    <tr>\n",
       "      <th>store 1</th>\n",
       "      <td>20</td>\n",
       "      <td>30</td>\n",
       "      <td>35</td>\n",
       "      <td>NaN</td>\n",
       "      <td>NaN</td>\n",
       "    </tr>\n",
       "    <tr>\n",
       "      <th>store 2</th>\n",
       "      <td>15</td>\n",
       "      <td>5</td>\n",
       "      <td>10</td>\n",
       "      <td>50.0</td>\n",
       "      <td>10.0</td>\n",
       "    </tr>\n",
       "    <tr>\n",
       "      <th>store 3</th>\n",
       "      <td>20</td>\n",
       "      <td>30</td>\n",
       "      <td>35</td>\n",
       "      <td>4.0</td>\n",
       "      <td>35.0</td>\n",
       "    </tr>\n",
       "  </tbody>\n",
       "</table>\n",
       "</div>"
      ],
      "text/plain": [
       "         bikes  pants  watches  glasses  new watches\n",
       "store 1     20     30       35      NaN          NaN\n",
       "store 2     15      5       10     50.0         10.0\n",
       "store 3     20     30       35      4.0         35.0"
      ]
     },
     "execution_count": 118,
     "metadata": {},
     "output_type": "execute_result"
    }
   ],
   "source": [
    "#Add new column that has data from the existing columns\n",
    "# We add a new column using data from particular rows in the watches column\n",
    "store_items['new watches'] = store_items['watches'][1:]\n",
    "\n",
    "# We display the modified DataFrame\n",
    "store_items"
   ]
  },
  {
   "cell_type": "code",
   "execution_count": 119,
   "id": "1cb24a43",
   "metadata": {},
   "outputs": [
    {
     "data": {
      "text/html": [
       "<div>\n",
       "<style scoped>\n",
       "    .dataframe tbody tr th:only-of-type {\n",
       "        vertical-align: middle;\n",
       "    }\n",
       "\n",
       "    .dataframe tbody tr th {\n",
       "        vertical-align: top;\n",
       "    }\n",
       "\n",
       "    .dataframe thead th {\n",
       "        text-align: right;\n",
       "    }\n",
       "</style>\n",
       "<table border=\"1\" class=\"dataframe\">\n",
       "  <thead>\n",
       "    <tr style=\"text-align: right;\">\n",
       "      <th></th>\n",
       "      <th>bikes</th>\n",
       "      <th>pants</th>\n",
       "      <th>watches</th>\n",
       "      <th>glasses</th>\n",
       "    </tr>\n",
       "  </thead>\n",
       "  <tbody>\n",
       "    <tr>\n",
       "      <th>store 1</th>\n",
       "      <td>20</td>\n",
       "      <td>30</td>\n",
       "      <td>35</td>\n",
       "      <td>NaN</td>\n",
       "    </tr>\n",
       "    <tr>\n",
       "      <th>store 2</th>\n",
       "      <td>15</td>\n",
       "      <td>5</td>\n",
       "      <td>10</td>\n",
       "      <td>50.0</td>\n",
       "    </tr>\n",
       "    <tr>\n",
       "      <th>store 3</th>\n",
       "      <td>20</td>\n",
       "      <td>30</td>\n",
       "      <td>35</td>\n",
       "      <td>4.0</td>\n",
       "    </tr>\n",
       "  </tbody>\n",
       "</table>\n",
       "</div>"
      ],
      "text/plain": [
       "         bikes  pants  watches  glasses\n",
       "store 1     20     30       35      NaN\n",
       "store 2     15      5       10     50.0\n",
       "store 3     20     30       35      4.0"
      ]
     },
     "execution_count": 119,
     "metadata": {},
     "output_type": "execute_result"
    }
   ],
   "source": [
    "#Delete one column from a DataFrame\n",
    "# We remove the new watches column\n",
    "store_items.pop('new watches')\n",
    "\n",
    "# we display the modified DataFrame\n",
    "store_items"
   ]
  },
  {
   "cell_type": "code",
   "execution_count": 121,
   "id": "a1758bb4",
   "metadata": {},
   "outputs": [
    {
     "data": {
      "text/html": [
       "<div>\n",
       "<style scoped>\n",
       "    .dataframe tbody tr th:only-of-type {\n",
       "        vertical-align: middle;\n",
       "    }\n",
       "\n",
       "    .dataframe tbody tr th {\n",
       "        vertical-align: top;\n",
       "    }\n",
       "\n",
       "    .dataframe thead th {\n",
       "        text-align: right;\n",
       "    }\n",
       "</style>\n",
       "<table border=\"1\" class=\"dataframe\">\n",
       "  <thead>\n",
       "    <tr style=\"text-align: right;\">\n",
       "      <th></th>\n",
       "      <th>bikes</th>\n",
       "      <th>glasses</th>\n",
       "    </tr>\n",
       "  </thead>\n",
       "  <tbody>\n",
       "    <tr>\n",
       "      <th>store 1</th>\n",
       "      <td>20</td>\n",
       "      <td>NaN</td>\n",
       "    </tr>\n",
       "    <tr>\n",
       "      <th>store 2</th>\n",
       "      <td>15</td>\n",
       "      <td>50.0</td>\n",
       "    </tr>\n",
       "    <tr>\n",
       "      <th>store 3</th>\n",
       "      <td>20</td>\n",
       "      <td>4.0</td>\n",
       "    </tr>\n",
       "  </tbody>\n",
       "</table>\n",
       "</div>"
      ],
      "text/plain": [
       "         bikes  glasses\n",
       "store 1     20      NaN\n",
       "store 2     15     50.0\n",
       "store 3     20      4.0"
      ]
     },
     "execution_count": 121,
     "metadata": {},
     "output_type": "execute_result"
    }
   ],
   "source": [
    "#Delete multiple columns from a DataFrame\n",
    "# We remove the watches and shoes columns\n",
    "store_items = store_items.drop(['watches', 'pants'], axis = 1)\n",
    "\n",
    "#axis = 1 is for coulumns while axis = 0 is for rows\n",
    "# we display the modified DataFrame\n",
    "store_items"
   ]
  },
  {
   "cell_type": "code",
   "execution_count": 122,
   "id": "d4c8f79b",
   "metadata": {},
   "outputs": [
    {
     "data": {
      "text/html": [
       "<div>\n",
       "<style scoped>\n",
       "    .dataframe tbody tr th:only-of-type {\n",
       "        vertical-align: middle;\n",
       "    }\n",
       "\n",
       "    .dataframe tbody tr th {\n",
       "        vertical-align: top;\n",
       "    }\n",
       "\n",
       "    .dataframe thead th {\n",
       "        text-align: right;\n",
       "    }\n",
       "</style>\n",
       "<table border=\"1\" class=\"dataframe\">\n",
       "  <thead>\n",
       "    <tr style=\"text-align: right;\">\n",
       "      <th></th>\n",
       "      <th>bikes</th>\n",
       "      <th>glasses</th>\n",
       "    </tr>\n",
       "  </thead>\n",
       "  <tbody>\n",
       "    <tr>\n",
       "      <th>store 3</th>\n",
       "      <td>20</td>\n",
       "      <td>4.0</td>\n",
       "    </tr>\n",
       "  </tbody>\n",
       "</table>\n",
       "</div>"
      ],
      "text/plain": [
       "         bikes  glasses\n",
       "store 3     20      4.0"
      ]
     },
     "execution_count": 122,
     "metadata": {},
     "output_type": "execute_result"
    }
   ],
   "source": [
    "#Delete rows from a DataFrame\n",
    "# We remove the store 2 and store 1 rows\n",
    "store_items = store_items.drop(['store 2', 'store 1'], axis = 0)\n",
    "\n",
    "# we display the modified DataFrame\n",
    "store_items"
   ]
  },
  {
   "cell_type": "code",
   "execution_count": 123,
   "id": "5b7ba832",
   "metadata": {},
   "outputs": [
    {
     "data": {
      "text/html": [
       "<div>\n",
       "<style scoped>\n",
       "    .dataframe tbody tr th:only-of-type {\n",
       "        vertical-align: middle;\n",
       "    }\n",
       "\n",
       "    .dataframe tbody tr th {\n",
       "        vertical-align: top;\n",
       "    }\n",
       "\n",
       "    .dataframe thead th {\n",
       "        text-align: right;\n",
       "    }\n",
       "</style>\n",
       "<table border=\"1\" class=\"dataframe\">\n",
       "  <thead>\n",
       "    <tr style=\"text-align: right;\">\n",
       "      <th></th>\n",
       "      <th>hats</th>\n",
       "      <th>glasses</th>\n",
       "    </tr>\n",
       "  </thead>\n",
       "  <tbody>\n",
       "    <tr>\n",
       "      <th>store 3</th>\n",
       "      <td>20</td>\n",
       "      <td>4.0</td>\n",
       "    </tr>\n",
       "  </tbody>\n",
       "</table>\n",
       "</div>"
      ],
      "text/plain": [
       "         hats  glasses\n",
       "store 3    20      4.0"
      ]
     },
     "execution_count": 123,
     "metadata": {},
     "output_type": "execute_result"
    }
   ],
   "source": [
    "#Modify the column label\n",
    "# We change the column label bikes to hats\n",
    "store_items = store_items.rename(columns = {'bikes': 'hats'})\n",
    "\n",
    "# we display the modified DataFrame\n",
    "store_items"
   ]
  },
  {
   "cell_type": "code",
   "execution_count": 124,
   "id": "353351fa",
   "metadata": {},
   "outputs": [
    {
     "data": {
      "text/html": [
       "<div>\n",
       "<style scoped>\n",
       "    .dataframe tbody tr th:only-of-type {\n",
       "        vertical-align: middle;\n",
       "    }\n",
       "\n",
       "    .dataframe tbody tr th {\n",
       "        vertical-align: top;\n",
       "    }\n",
       "\n",
       "    .dataframe thead th {\n",
       "        text-align: right;\n",
       "    }\n",
       "</style>\n",
       "<table border=\"1\" class=\"dataframe\">\n",
       "  <thead>\n",
       "    <tr style=\"text-align: right;\">\n",
       "      <th></th>\n",
       "      <th>hats</th>\n",
       "      <th>glasses</th>\n",
       "    </tr>\n",
       "  </thead>\n",
       "  <tbody>\n",
       "    <tr>\n",
       "      <th>last store</th>\n",
       "      <td>20</td>\n",
       "      <td>4.0</td>\n",
       "    </tr>\n",
       "  </tbody>\n",
       "</table>\n",
       "</div>"
      ],
      "text/plain": [
       "            hats  glasses\n",
       "last store    20      4.0"
      ]
     },
     "execution_count": 124,
     "metadata": {},
     "output_type": "execute_result"
    }
   ],
   "source": [
    "#Modify the row label\n",
    "# We change the row label from store 3 to last store\n",
    "store_items = store_items.rename(index = {'store 3': 'last store'})\n",
    "\n",
    "# we display the modified DataFrame\n",
    "store_items"
   ]
  },
  {
   "cell_type": "code",
   "execution_count": null,
   "id": "da03b223",
   "metadata": {},
   "outputs": [],
   "source": []
  }
 ],
 "metadata": {
  "kernelspec": {
   "display_name": "Python 3 (ipykernel)",
   "language": "python",
   "name": "python3"
  },
  "language_info": {
   "codemirror_mode": {
    "name": "ipython",
    "version": 3
   },
   "file_extension": ".py",
   "mimetype": "text/x-python",
   "name": "python",
   "nbconvert_exporter": "python",
   "pygments_lexer": "ipython3",
   "version": "3.9.12"
  }
 },
 "nbformat": 4,
 "nbformat_minor": 5
}
